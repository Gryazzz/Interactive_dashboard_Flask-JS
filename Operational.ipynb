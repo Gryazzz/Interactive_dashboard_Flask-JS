{
 "cells": [
  {
   "cell_type": "code",
   "execution_count": 1,
   "metadata": {},
   "outputs": [],
   "source": [
    "# from flask import Flask, render_template, redirect\n",
    "from flask import Flask, jsonify, request\n",
    "import sqlalchemy\n",
    "from sqlalchemy.ext.automap import automap_base\n",
    "from sqlalchemy.orm import Session\n",
    "from sqlalchemy import create_engine, func, inspect\n",
    "from flask_sqlalchemy import SQLAlchemy\n",
    "import pandas as pd\n",
    "import os"
   ]
  },
  {
   "cell_type": "code",
   "execution_count": 2,
   "metadata": {},
   "outputs": [],
   "source": [
    "file_path = os.path.abspath(os.getcwd()) + \"/bb_app/db/belly_button_biodiversity.sqlite\"\n",
    "# engine = create_engine('sqlite:///'+ file_path)\n",
    "# # engine = create_engine(\"sqlite:///db/belly_button_biodiversity.sqlite\")\n",
    "# inspector = inspect(engine)"
   ]
  },
  {
   "cell_type": "markdown",
   "metadata": {},
   "source": [
    "**@app.route('/names')**"
   ]
  },
  {
   "cell_type": "code",
   "execution_count": null,
   "metadata": {},
   "outputs": [],
   "source": [
    "def find_col_names(eng, table_name):\n",
    "    inspector = inspect(eng)\n",
    "    tables = {}\n",
    "    \n",
    "    for table in inspector.get_table_names():\n",
    "        columns = inspector.get_columns(table)\n",
    "        names = []\n",
    "        for c in columns:\n",
    "            names.append(c['name'])\n",
    "            tables[table] = names\n",
    "    \n",
    "    column_names = tables[table_name]        \n",
    "    del column_names[:1] #del first name(index)\n",
    "    \n",
    "    return column_names"
   ]
  },
  {
   "cell_type": "code",
   "execution_count": null,
   "metadata": {},
   "outputs": [],
   "source": [
    "tables = {}\n",
    "    \n",
    "for table in inspector.get_table_names():\n",
    "    columns = inspector.get_columns(table)\n",
    "    names = []\n",
    "    for c in columns:\n",
    "        names.append(c['name'])\n",
    "        tables[table] = names"
   ]
  },
  {
   "cell_type": "code",
   "execution_count": null,
   "metadata": {},
   "outputs": [],
   "source": [
    "Base = automap_base()\n",
    "Base.prepare(engine, reflect=True)\n",
    "session = Session(engine)"
   ]
  },
  {
   "cell_type": "code",
   "execution_count": null,
   "metadata": {},
   "outputs": [],
   "source": [
    "Samples_metadata = Base.classes.samples_metadata\n",
    "Samples = Base.classes.samples\n",
    "Otu = Base.classes.otu"
   ]
  },
  {
   "cell_type": "markdown",
   "metadata": {},
   "source": [
    "**@app.route('/otu')**"
   ]
  },
  {
   "cell_type": "code",
   "execution_count": null,
   "metadata": {},
   "outputs": [],
   "source": [
    "bact_tuples = session.query(Otu.lowest_taxonomic_unit_found).all()\n",
    "bacteries = []"
   ]
  },
  {
   "cell_type": "code",
   "execution_count": null,
   "metadata": {},
   "outputs": [],
   "source": [
    "for b_tuple in bact_tuples:\n",
    "    for bact in b_tuple:\n",
    "        bacteries.append(bact)\n",
    "#bacteries = [bact for b_tuple in bact_tuples for bact in b_tuple]"
   ]
  },
  {
   "cell_type": "markdown",
   "metadata": {},
   "source": [
    "**@app.route('/metadata/<sample>')**"
   ]
  },
  {
   "cell_type": "code",
   "execution_count": null,
   "metadata": {},
   "outputs": [],
   "source": [
    "def metasample(eng, sample):\n",
    "    if sample in find_col_names(eng, 'samples'):\n",
    "        form_sample = int(sample[3:])\n",
    "    \n",
    "        keys = ['AGE', 'BBTYPE', 'ETHNICITY', 'GENDER', 'LOCATION', 'SAMPLEID']\n",
    "        values = [f for s in eng.execute(f'SELECT * FROM samples_metadata where SAMPLEID = {form_sample}').\\\n",
    "          fetchall() for f in s]\n",
    "    \n",
    "        sample_dict = {}\n",
    "        cols = inspector.get_columns('samples_metadata')\n",
    "        for x in range(len(cols)):\n",
    "            if cols[x]['name'] in keys:\n",
    "                sample_dict[cols[x]['name']] = values[x]\n",
    "        return sample_dict\n",
    "    else:\n",
    "        return f'There is no sample named {sample} in our dataset'"
   ]
  },
  {
   "cell_type": "code",
   "execution_count": null,
   "metadata": {},
   "outputs": [],
   "source": [
    "keys = ['AGE', 'BBTYPE', 'ETHNICITY', 'GENDER', 'LOCATION', 'SAMPLEID']\n",
    "q = 'BB_1265'\n",
    "r = session.query(Samples_metadata.AGE, Samples_metadata.BBTYPE, Samples_metadata.ETHNICITY,\\\n",
    "                 Samples_metadata.GENDER, Samples_metadata.LOCATION, Samples_metadata.SAMPLEID).\\\n",
    "                filter(Samples_metadata.SAMPLEID == q).all()\n",
    "values = [y for x in r for y in x]\n",
    "sample_dict = {}\n",
    "for x in range(len(keys)):\n",
    "    sample_dict[keys[x]] = values[x]"
   ]
  },
  {
   "cell_type": "code",
   "execution_count": null,
   "metadata": {},
   "outputs": [],
   "source": [
    "values = [f for s in engine.execute(f'SELECT * FROM samples_metadata where SAMPLEID = {q}').\\\n",
    "          fetchall() for f in s]"
   ]
  },
  {
   "cell_type": "code",
   "execution_count": null,
   "metadata": {},
   "outputs": [],
   "source": [
    "sample_dict2 = {}\n",
    "cols = inspector.get_columns('samples_metadata')\n",
    "for x in range(len(cols)):\n",
    "    if cols[x]['name'] in keys:\n",
    "        sample_dict2[cols[x]['name']] = values[x]"
   ]
  },
  {
   "cell_type": "code",
   "execution_count": null,
   "metadata": {},
   "outputs": [],
   "source": [
    "int(session.query(Samples_metadata.WFREQ).filter(Samples_metadata.SAMPLEID == 940).all()[0][0])\n",
    "fetch = engine.execute(f'select \"{t}\", otu_id from samples where \"{t}\" > 0 order by \"{t}\" desc' ).fetchall()\n",
    "val, ids = zip(*fetch)\n",
    "values_otu = [dict(otu_ids=list(ids)), dict(sample_values=list(val))]\n",
    "pd.DataFrame([f for f in fetch], columns=['sample_values', 'otu_ids'])"
   ]
  },
  {
   "cell_type": "code",
   "execution_count": null,
   "metadata": {},
   "outputs": [],
   "source": []
  },
  {
   "cell_type": "code",
   "execution_count": null,
   "metadata": {},
   "outputs": [],
   "source": []
  }
 ],
 "metadata": {
  "kernelspec": {
   "display_name": "Python 3",
   "language": "python",
   "name": "python3"
  },
  "language_info": {
   "codemirror_mode": {
    "name": "ipython",
    "version": 3
   },
   "file_extension": ".py",
   "mimetype": "text/x-python",
   "name": "python",
   "nbconvert_exporter": "python",
   "pygments_lexer": "ipython3",
   "version": "3.6.4"
  }
 },
 "nbformat": 4,
 "nbformat_minor": 2
}

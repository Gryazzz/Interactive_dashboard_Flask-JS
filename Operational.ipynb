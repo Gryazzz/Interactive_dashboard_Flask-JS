{
 "cells": [
  {
   "cell_type": "code",
   "execution_count": 1,
   "metadata": {},
   "outputs": [],
   "source": [
    "# from flask import Flask, render_template, redirect\n",
    "import sqlalchemy\n",
    "from sqlalchemy.ext.automap import automap_base\n",
    "from sqlalchemy.orm import Session\n",
    "from sqlalchemy import create_engine, func, inspect"
   ]
  },
  {
   "cell_type": "code",
   "execution_count": 2,
   "metadata": {},
   "outputs": [],
   "source": [
    "engine = create_engine(\"sqlite:///Data/belly_button_biodiversity.sqlite\")"
   ]
  },
  {
   "cell_type": "code",
   "execution_count": 3,
   "metadata": {},
   "outputs": [],
   "source": [
    "inspector = inspect(engine)"
   ]
  },
  {
   "cell_type": "code",
   "execution_count": 39,
   "metadata": {},
   "outputs": [
    {
     "data": {
      "text/plain": [
       "list"
      ]
     },
     "execution_count": 39,
     "metadata": {},
     "output_type": "execute_result"
    }
   ],
   "source": [
    "type(inspector.get_table_names())"
   ]
  },
  {
   "cell_type": "code",
   "execution_count": 40,
   "metadata": {},
   "outputs": [
    {
     "name": "stdout",
     "output_type": "stream",
     "text": [
      "Table name is \"otu\", it contains columns: \n",
      "otu_id INTEGER\n",
      "lowest_taxonomic_unit_found TEXT\n",
      "\n",
      "Table name is \"samples\", it contains columns: \n",
      "otu_id INTEGER\n",
      "BB_940 INTEGER\n",
      "BB_941 INTEGER\n",
      "BB_943 INTEGER\n",
      "BB_944 INTEGER\n",
      "BB_945 INTEGER\n",
      "BB_946 INTEGER\n",
      "BB_947 INTEGER\n",
      "BB_948 INTEGER\n",
      "BB_949 INTEGER\n",
      "BB_950 INTEGER\n",
      "BB_952 INTEGER\n",
      "BB_953 INTEGER\n",
      "BB_954 INTEGER\n",
      "BB_955 INTEGER\n",
      "BB_956 INTEGER\n",
      "BB_958 INTEGER\n",
      "BB_959 INTEGER\n",
      "BB_960 INTEGER\n",
      "BB_961 INTEGER\n",
      "BB_962 INTEGER\n",
      "BB_963 INTEGER\n",
      "BB_964 INTEGER\n",
      "BB_966 INTEGER\n",
      "BB_967 INTEGER\n",
      "BB_968 INTEGER\n",
      "BB_969 INTEGER\n",
      "BB_970 INTEGER\n",
      "BB_971 INTEGER\n",
      "BB_972 INTEGER\n",
      "BB_973 INTEGER\n",
      "BB_974 INTEGER\n",
      "BB_975 INTEGER\n",
      "BB_978 INTEGER\n",
      "BB_1233 INTEGER\n",
      "BB_1234 INTEGER\n",
      "BB_1235 INTEGER\n",
      "BB_1236 INTEGER\n",
      "BB_1237 INTEGER\n",
      "BB_1238 INTEGER\n",
      "BB_1242 INTEGER\n",
      "BB_1243 INTEGER\n",
      "BB_1246 INTEGER\n",
      "BB_1253 INTEGER\n",
      "BB_1254 INTEGER\n",
      "BB_1258 INTEGER\n",
      "BB_1259 INTEGER\n",
      "BB_1260 INTEGER\n",
      "BB_1264 INTEGER\n",
      "BB_1265 INTEGER\n",
      "BB_1273 INTEGER\n",
      "BB_1275 INTEGER\n",
      "BB_1276 INTEGER\n",
      "BB_1277 INTEGER\n",
      "BB_1278 INTEGER\n",
      "BB_1279 INTEGER\n",
      "BB_1280 INTEGER\n",
      "BB_1281 INTEGER\n",
      "BB_1282 INTEGER\n",
      "BB_1283 INTEGER\n",
      "BB_1284 INTEGER\n",
      "BB_1285 INTEGER\n",
      "BB_1286 INTEGER\n",
      "BB_1287 INTEGER\n",
      "BB_1288 INTEGER\n",
      "BB_1289 INTEGER\n",
      "BB_1290 INTEGER\n",
      "BB_1291 INTEGER\n",
      "BB_1292 INTEGER\n",
      "BB_1293 INTEGER\n",
      "BB_1294 INTEGER\n",
      "BB_1295 INTEGER\n",
      "BB_1296 INTEGER\n",
      "BB_1297 INTEGER\n",
      "BB_1298 INTEGER\n",
      "BB_1308 INTEGER\n",
      "BB_1309 INTEGER\n",
      "BB_1310 INTEGER\n",
      "BB_1374 INTEGER\n",
      "BB_1415 INTEGER\n",
      "BB_1439 INTEGER\n",
      "BB_1441 INTEGER\n",
      "BB_1443 INTEGER\n",
      "BB_1486 INTEGER\n",
      "BB_1487 INTEGER\n",
      "BB_1489 INTEGER\n",
      "BB_1490 INTEGER\n",
      "BB_1491 INTEGER\n",
      "BB_1494 INTEGER\n",
      "BB_1495 INTEGER\n",
      "BB_1497 INTEGER\n",
      "BB_1499 INTEGER\n",
      "BB_1500 INTEGER\n",
      "BB_1501 INTEGER\n",
      "BB_1502 INTEGER\n",
      "BB_1503 INTEGER\n",
      "BB_1504 INTEGER\n",
      "BB_1505 INTEGER\n",
      "BB_1506 INTEGER\n",
      "BB_1507 INTEGER\n",
      "BB_1508 INTEGER\n",
      "BB_1510 INTEGER\n",
      "BB_1511 INTEGER\n",
      "BB_1512 INTEGER\n",
      "BB_1513 INTEGER\n",
      "BB_1514 INTEGER\n",
      "BB_1515 INTEGER\n",
      "BB_1516 INTEGER\n",
      "BB_1517 INTEGER\n",
      "BB_1518 INTEGER\n",
      "BB_1519 INTEGER\n",
      "BB_1521 INTEGER\n",
      "BB_1524 INTEGER\n",
      "BB_1526 INTEGER\n",
      "BB_1527 INTEGER\n",
      "BB_1530 INTEGER\n",
      "BB_1531 INTEGER\n",
      "BB_1532 INTEGER\n",
      "BB_1533 INTEGER\n",
      "BB_1534 INTEGER\n",
      "BB_1535 INTEGER\n",
      "BB_1536 INTEGER\n",
      "BB_1537 INTEGER\n",
      "BB_1539 INTEGER\n",
      "BB_1540 INTEGER\n",
      "BB_1541 INTEGER\n",
      "BB_1542 INTEGER\n",
      "BB_1543 INTEGER\n",
      "BB_1544 INTEGER\n",
      "BB_1545 INTEGER\n",
      "BB_1546 INTEGER\n",
      "BB_1547 INTEGER\n",
      "BB_1548 INTEGER\n",
      "BB_1549 INTEGER\n",
      "BB_1550 INTEGER\n",
      "BB_1551 INTEGER\n",
      "BB_1552 INTEGER\n",
      "BB_1553 INTEGER\n",
      "BB_1554 INTEGER\n",
      "BB_1555 INTEGER\n",
      "BB_1556 INTEGER\n",
      "BB_1557 INTEGER\n",
      "BB_1558 INTEGER\n",
      "BB_1561 INTEGER\n",
      "BB_1562 INTEGER\n",
      "BB_1563 INTEGER\n",
      "BB_1564 INTEGER\n",
      "BB_1572 INTEGER\n",
      "BB_1573 INTEGER\n",
      "BB_1574 INTEGER\n",
      "BB_1576 INTEGER\n",
      "BB_1577 INTEGER\n",
      "BB_1581 INTEGER\n",
      "BB_1601 INTEGER\n",
      "\n",
      "Table name is \"samples_metadata\", it contains columns: \n",
      "SAMPLEID INTEGER\n",
      "EVENT TEXT\n",
      "ETHNICITY TEXT\n",
      "GENDER TEXT\n",
      "AGE INTEGER\n",
      "WFREQ INTEGER\n",
      "BBTYPE TEXT\n",
      "LOCATION TEXT\n",
      "COUNTRY012 TEXT\n",
      "ZIP012 INTEGER\n",
      "COUNTRY1319 TEXT\n",
      "ZIP1319 INTEGER\n",
      "DOG TEXT\n",
      "CAT TEXT\n",
      "IMPSURFACE013 INTEGER\n",
      "NPP013 FLOAT\n",
      "MMAXTEMP013 FLOAT\n",
      "PFC013 FLOAT\n",
      "IMPSURFACE1319 INTEGER\n",
      "NPP1319 FLOAT\n",
      "MMAXTEMP1319 FLOAT\n",
      "PFC1319 FLOAT\n",
      "\n"
     ]
    }
   ],
   "source": [
    "tables = {} # keep all tables and columns. maybe useless\n",
    "for table in inspector.get_table_names():\n",
    "    print(f'Table name is \"{table}\", it contains columns: ')\n",
    "    columns = inspector.get_columns(table)\n",
    "    names = []\n",
    "    for c in columns:\n",
    "        names.append(c['name'])\n",
    "        print(c['name'], c['type'])\n",
    "    print()\n",
    "    tables[table] = names"
   ]
  },
  {
   "cell_type": "code",
   "execution_count": 44,
   "metadata": {},
   "outputs": [],
   "source": [
    "sample_names = tables['samples']"
   ]
  },
  {
   "cell_type": "code",
   "execution_count": 5,
   "metadata": {},
   "outputs": [],
   "source": [
    "Base = automap_base()\n",
    "Base.prepare(engine, reflect=True)"
   ]
  },
  {
   "cell_type": "code",
   "execution_count": 26,
   "metadata": {},
   "outputs": [
    {
     "data": {
      "text/plain": [
       "['otu', 'samples', 'samples_metadata']"
      ]
     },
     "execution_count": 26,
     "metadata": {},
     "output_type": "execute_result"
    }
   ],
   "source": [
    "Base.classes.keys()"
   ]
  },
  {
   "cell_type": "code",
   "execution_count": 35,
   "metadata": {},
   "outputs": [],
   "source": [
    "Samples_metadata = Base.classes.samples_metadata\n",
    "Samples = Base.classes.samples\n",
    "Otu = Base.classes.otu"
   ]
  },
  {
   "cell_type": "code",
   "execution_count": 7,
   "metadata": {},
   "outputs": [],
   "source": [
    "session = Session(engine)"
   ]
  },
  {
   "cell_type": "code",
   "execution_count": 37,
   "metadata": {},
   "outputs": [
    {
     "ename": "AttributeError",
     "evalue": "type object 'samples' has no attribute 'columns'",
     "output_type": "error",
     "traceback": [
      "\u001b[0;31m----------------------------------------------------------------------\u001b[0m",
      "\u001b[0;31mAttributeError\u001b[0m                       Traceback (most recent call last)",
      "\u001b[0;32m<ipython-input-37-5d319793a537>\u001b[0m in \u001b[0;36m<module>\u001b[0;34m()\u001b[0m\n\u001b[0;32m----> 1\u001b[0;31m \u001b[0msession\u001b[0m\u001b[0;34m.\u001b[0m\u001b[0mquery\u001b[0m\u001b[0;34m(\u001b[0m\u001b[0mSamples\u001b[0m\u001b[0;34m.\u001b[0m\u001b[0mcolumns\u001b[0m\u001b[0;34m)\u001b[0m\u001b[0;34m.\u001b[0m\u001b[0mall\u001b[0m\u001b[0;34m(\u001b[0m\u001b[0;34m)\u001b[0m\u001b[0;34m\u001b[0m\u001b[0m\n\u001b[0m",
      "\u001b[0;31mAttributeError\u001b[0m: type object 'samples' has no attribute 'columns'"
     ]
    }
   ],
   "source": [
    "for table in "
   ]
  },
  {
   "cell_type": "code",
   "execution_count": 33,
   "metadata": {},
   "outputs": [
    {
     "name": "stdout",
     "output_type": "stream",
     "text": [
      "(<sqlalchemy.ext.automap.samples_metadata object at 0x106458208>, 'no')\n",
      "(<sqlalchemy.ext.automap.samples_metadata object at 0x106458278>, '0')\n",
      "(<sqlalchemy.ext.automap.samples_metadata object at 0x1064582e8>, '0')\n",
      "(<sqlalchemy.ext.automap.samples_metadata object at 0x106458358>, 'yes')\n",
      "(<sqlalchemy.ext.automap.samples_metadata object at 0x106458400>, 'no')\n",
      "(<sqlalchemy.ext.automap.samples_metadata object at 0x1064584a8>, 'yes')\n",
      "(<sqlalchemy.ext.automap.samples_metadata object at 0x106458550>, 'yes')\n"
     ]
    }
   ],
   "source": [
    "for row in alldata:\n",
    "    print(row)"
   ]
  },
  {
   "cell_type": "code",
   "execution_count": null,
   "metadata": {},
   "outputs": [],
   "source": []
  }
 ],
 "metadata": {
  "kernelspec": {
   "display_name": "Python 3",
   "language": "python",
   "name": "python3"
  },
  "language_info": {
   "codemirror_mode": {
    "name": "ipython",
    "version": 3
   },
   "file_extension": ".py",
   "mimetype": "text/x-python",
   "name": "python",
   "nbconvert_exporter": "python",
   "pygments_lexer": "ipython3",
   "version": "3.6.4"
  }
 },
 "nbformat": 4,
 "nbformat_minor": 2
}

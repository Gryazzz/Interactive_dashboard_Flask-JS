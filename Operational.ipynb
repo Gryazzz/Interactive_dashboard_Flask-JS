{
 "cells": [
  {
   "cell_type": "code",
   "execution_count": 114,
   "metadata": {},
   "outputs": [],
   "source": [
    "# from flask import Flask, render_template, redirect\n",
    "from flask import Flask, jsonify\n",
    "import sqlalchemy\n",
    "from sqlalchemy.ext.automap import automap_base\n",
    "from sqlalchemy.orm import Session\n",
    "from sqlalchemy import create_engine, func, inspect\n",
    "from flask_sqlalchemy import SQLAlchemy"
   ]
  },
  {
   "cell_type": "code",
   "execution_count": 2,
   "metadata": {},
   "outputs": [],
   "source": [
    "engine = create_engine(\"sqlite:///Data/belly_button_biodiversity.sqlite\")\n",
    "inspector = inspect(engine)"
   ]
  },
  {
   "cell_type": "markdown",
   "metadata": {},
   "source": [
    "**@app.route('/names')**"
   ]
  },
  {
   "cell_type": "code",
   "execution_count": 4,
   "metadata": {},
   "outputs": [],
   "source": [
    "def find_col_names(eng, table_name):\n",
    "    inspector = inspect(eng)\n",
    "    tables = {}\n",
    "    \n",
    "    for table in inspector.get_table_names():\n",
    "        columns = inspector.get_columns(table)\n",
    "        names = []\n",
    "        for c in columns:\n",
    "            names.append(c['name'])\n",
    "            tables[table] = names\n",
    "    \n",
    "    column_names = tables[table_name]        \n",
    "    del column_names[:1] #del first name(index)\n",
    "    \n",
    "    return column_names"
   ]
  },
  {
   "cell_type": "code",
   "execution_count": 7,
   "metadata": {},
   "outputs": [],
   "source": [
    "tables = {}\n",
    "    \n",
    "for table in inspector.get_table_names():\n",
    "    columns = inspector.get_columns(table)\n",
    "    names = []\n",
    "    for c in columns:\n",
    "        names.append(c['name'])\n",
    "        tables[table] = names"
   ]
  },
  {
   "cell_type": "code",
   "execution_count": 9,
   "metadata": {},
   "outputs": [],
   "source": [
    "Base = automap_base()\n",
    "Base.prepare(engine, reflect=True)\n",
    "session = Session(engine)"
   ]
  },
  {
   "cell_type": "code",
   "execution_count": 10,
   "metadata": {},
   "outputs": [],
   "source": [
    "Samples_metadata = Base.classes.samples_metadata\n",
    "Samples = Base.classes.samples\n",
    "Otu = Base.classes.otu"
   ]
  },
  {
   "cell_type": "markdown",
   "metadata": {},
   "source": [
    "**@app.route('/otu')**"
   ]
  },
  {
   "cell_type": "code",
   "execution_count": 32,
   "metadata": {},
   "outputs": [],
   "source": [
    "bact_tuples = session.query(Otu.lowest_taxonomic_unit_found).all()\n",
    "bacteries = []"
   ]
  },
  {
   "cell_type": "code",
   "execution_count": 37,
   "metadata": {},
   "outputs": [],
   "source": [
    "for b_tuple in bact_tuples:\n",
    "    for bact in b_tuple:\n",
    "        bacteries.append(bact)\n",
    "#bacteries = [bact for b_tuple in bact_tuples for bact in b_tuple]"
   ]
  },
  {
   "cell_type": "markdown",
   "metadata": {},
   "source": [
    "**@app.route('/metadata/<sample>')**"
   ]
  },
  {
   "cell_type": "code",
   "execution_count": 130,
   "metadata": {},
   "outputs": [],
   "source": [
    "def metasample(eng, sample):\n",
    "    if sample in find_col_names(eng, 'samples'):\n",
    "        form_sample = int(sample[3:])\n",
    "    \n",
    "        keys = ['AGE', 'BBTYPE', 'ETHNICITY', 'GENDER', 'LOCATION', 'SAMPLEID']\n",
    "        values = [f for s in eng.execute(f'SELECT * FROM samples_metadata where SAMPLEID = {form_sample}').\\\n",
    "          fetchall() for f in s]\n",
    "    \n",
    "        sample_dict = {}\n",
    "        cols = inspector.get_columns('samples_metadata')\n",
    "        for x in range(len(cols)):\n",
    "            if cols[x]['name'] in keys:\n",
    "                sample_dict[cols[x]['name']] = values[x]\n",
    "        return sample_dict\n",
    "    else:\n",
    "        return f'There is no sample named {sample} in our dataset'"
   ]
  },
  {
   "cell_type": "code",
   "execution_count": 131,
   "metadata": {},
   "outputs": [
    {
     "data": {
      "text/plain": [
       "{'AGE': 0,\n",
       " 'BBTYPE': 'Unknown',\n",
       " 'ETHNICITY': '0',\n",
       " 'GENDER': '0',\n",
       " 'LOCATION': '0',\n",
       " 'SAMPLEID': 1415}"
      ]
     },
     "execution_count": 131,
     "metadata": {},
     "output_type": "execute_result"
    }
   ],
   "source": [
    "metasample(engine, 'BB_1415')"
   ]
  },
  {
   "cell_type": "code",
   "execution_count": 78,
   "metadata": {},
   "outputs": [],
   "source": [
    "keys = ['AGE', 'BBTYPE', 'ETHNICITY', 'GENDER', 'LOCATION', 'SAMPLEID']"
   ]
  },
  {
   "cell_type": "code",
   "execution_count": 125,
   "metadata": {},
   "outputs": [],
   "source": [
    "q = 'BB_1265'"
   ]
  },
  {
   "cell_type": "code",
   "execution_count": 75,
   "metadata": {},
   "outputs": [],
   "source": [
    "r = session.query(Samples_metadata.AGE, Samples_metadata.BBTYPE, Samples_metadata.ETHNICITY,\\\n",
    "                 Samples_metadata.GENDER, Samples_metadata.LOCATION, Samples_metadata.SAMPLEID).\\\n",
    "                filter(Samples_metadata.SAMPLEID == q).all()"
   ]
  },
  {
   "cell_type": "code",
   "execution_count": null,
   "metadata": {},
   "outputs": [],
   "source": []
  },
  {
   "cell_type": "code",
   "execution_count": 66,
   "metadata": {},
   "outputs": [],
   "source": [
    "values = [y for x in r for y in x]"
   ]
  },
  {
   "cell_type": "code",
   "execution_count": 76,
   "metadata": {},
   "outputs": [],
   "source": [
    "sample_dict = {}\n",
    "for x in range(len(keys)):\n",
    "    sample_dict[keys[x]] = values[x]"
   ]
  },
  {
   "cell_type": "code",
   "execution_count": 127,
   "metadata": {},
   "outputs": [
    {
     "data": {
      "text/plain": [
       "{'AGE': 38,\n",
       " 'BBTYPE': 'I',\n",
       " 'ETHNICITY': 'Caucasian',\n",
       " 'GENDER': 'M',\n",
       " 'LOCATION': '0',\n",
       " 'SAMPLEID': 1286}"
      ]
     },
     "execution_count": 127,
     "metadata": {},
     "output_type": "execute_result"
    }
   ],
   "source": [
    "metasample(engine, 'BB_1286')"
   ]
  },
  {
   "cell_type": "code",
   "execution_count": 77,
   "metadata": {},
   "outputs": [
    {
     "data": {
      "text/plain": [
       "{'AGE': 44,\n",
       " 'BBTYPE': 'I',\n",
       " 'ETHNICITY': 'European',\n",
       " 'GENDER': 'M',\n",
       " 'LOCATION': 'NewHaven/CT',\n",
       " 'SAMPLEID': 944}"
      ]
     },
     "execution_count": 77,
     "metadata": {},
     "output_type": "execute_result"
    }
   ],
   "source": [
    "sample_dict"
   ]
  },
  {
   "cell_type": "code",
   "execution_count": 87,
   "metadata": {},
   "outputs": [],
   "source": [
    "values = [f for s in engine.execute(f'SELECT * FROM samples_metadata where SAMPLEID = {q}').\\\n",
    "          fetchall() for f in s]"
   ]
  },
  {
   "cell_type": "code",
   "execution_count": 95,
   "metadata": {},
   "outputs": [],
   "source": [
    "sample_dict2 = {}\n",
    "cols = inspector.get_columns('samples_metadata')\n",
    "for x in range(len(cols)):\n",
    "    if cols[x]['name'] in keys:\n",
    "        sample_dict2[cols[x]['name']] = values[x]"
   ]
  },
  {
   "cell_type": "code",
   "execution_count": null,
   "metadata": {},
   "outputs": [],
   "source": [
    "# labels, values = zip(*lyrics.items())  check it https://docs.python.org/3/library/functions.html#zip"
   ]
  },
  {
   "cell_type": "code",
   "execution_count": 96,
   "metadata": {},
   "outputs": [
    {
     "data": {
      "text/plain": [
       "{'AGE': 44,\n",
       " 'BBTYPE': 'I',\n",
       " 'ETHNICITY': 'European',\n",
       " 'GENDER': 'M',\n",
       " 'LOCATION': 'NewHaven/CT',\n",
       " 'SAMPLEID': 944}"
      ]
     },
     "execution_count": 96,
     "metadata": {},
     "output_type": "execute_result"
    }
   ],
   "source": [
    "sample_dict2"
   ]
  },
  {
   "cell_type": "code",
   "execution_count": 105,
   "metadata": {},
   "outputs": [],
   "source": [
    "t = 'BB_910'"
   ]
  },
  {
   "cell_type": "code",
   "execution_count": 106,
   "metadata": {},
   "outputs": [
    {
     "data": {
      "text/plain": [
       "910"
      ]
     },
     "execution_count": 106,
     "metadata": {},
     "output_type": "execute_result"
    }
   ],
   "source": [
    "int(t[3:])"
   ]
  },
  {
   "cell_type": "code",
   "execution_count": 126,
   "metadata": {},
   "outputs": [
    {
     "name": "stdout",
     "output_type": "stream",
     "text": [
      "yes\n"
     ]
    }
   ],
   "source": [
    "if q in find_col_names(engine, 'samples'):\n",
    "    print('yes')"
   ]
  },
  {
   "cell_type": "code",
   "execution_count": 140,
   "metadata": {},
   "outputs": [
    {
     "data": {
      "text/plain": [
       "2"
      ]
     },
     "execution_count": 140,
     "metadata": {},
     "output_type": "execute_result"
    }
   ],
   "source": [
    "int(session.query(Samples_metadata.WFREQ).filter(Samples_metadata.SAMPLEID == 940).all()[0][0])"
   ]
  },
  {
   "cell_type": "code",
   "execution_count": 111,
   "metadata": {},
   "outputs": [
    {
     "data": {
      "text/plain": [
       "['BB_940',\n",
       " 'BB_941',\n",
       " 'BB_943',\n",
       " 'BB_944',\n",
       " 'BB_945',\n",
       " 'BB_946',\n",
       " 'BB_947',\n",
       " 'BB_948',\n",
       " 'BB_949',\n",
       " 'BB_950',\n",
       " 'BB_952',\n",
       " 'BB_953',\n",
       " 'BB_954',\n",
       " 'BB_955',\n",
       " 'BB_956',\n",
       " 'BB_958',\n",
       " 'BB_959',\n",
       " 'BB_960',\n",
       " 'BB_961',\n",
       " 'BB_962',\n",
       " 'BB_963',\n",
       " 'BB_964',\n",
       " 'BB_966',\n",
       " 'BB_967',\n",
       " 'BB_968',\n",
       " 'BB_969',\n",
       " 'BB_970',\n",
       " 'BB_971',\n",
       " 'BB_972',\n",
       " 'BB_973',\n",
       " 'BB_974',\n",
       " 'BB_975',\n",
       " 'BB_978',\n",
       " 'BB_1233',\n",
       " 'BB_1234',\n",
       " 'BB_1235',\n",
       " 'BB_1236',\n",
       " 'BB_1237',\n",
       " 'BB_1238',\n",
       " 'BB_1242',\n",
       " 'BB_1243',\n",
       " 'BB_1246',\n",
       " 'BB_1253',\n",
       " 'BB_1254',\n",
       " 'BB_1258',\n",
       " 'BB_1259',\n",
       " 'BB_1260',\n",
       " 'BB_1264',\n",
       " 'BB_1265',\n",
       " 'BB_1273',\n",
       " 'BB_1275',\n",
       " 'BB_1276',\n",
       " 'BB_1277',\n",
       " 'BB_1278',\n",
       " 'BB_1279',\n",
       " 'BB_1280',\n",
       " 'BB_1281',\n",
       " 'BB_1282',\n",
       " 'BB_1283',\n",
       " 'BB_1284',\n",
       " 'BB_1285',\n",
       " 'BB_1286',\n",
       " 'BB_1287',\n",
       " 'BB_1288',\n",
       " 'BB_1289',\n",
       " 'BB_1290',\n",
       " 'BB_1291',\n",
       " 'BB_1292',\n",
       " 'BB_1293',\n",
       " 'BB_1294',\n",
       " 'BB_1295',\n",
       " 'BB_1296',\n",
       " 'BB_1297',\n",
       " 'BB_1298',\n",
       " 'BB_1308',\n",
       " 'BB_1309',\n",
       " 'BB_1310',\n",
       " 'BB_1374',\n",
       " 'BB_1415',\n",
       " 'BB_1439',\n",
       " 'BB_1441',\n",
       " 'BB_1443',\n",
       " 'BB_1486',\n",
       " 'BB_1487',\n",
       " 'BB_1489',\n",
       " 'BB_1490',\n",
       " 'BB_1491',\n",
       " 'BB_1494',\n",
       " 'BB_1495',\n",
       " 'BB_1497',\n",
       " 'BB_1499',\n",
       " 'BB_1500',\n",
       " 'BB_1501',\n",
       " 'BB_1502',\n",
       " 'BB_1503',\n",
       " 'BB_1504',\n",
       " 'BB_1505',\n",
       " 'BB_1506',\n",
       " 'BB_1507',\n",
       " 'BB_1508',\n",
       " 'BB_1510',\n",
       " 'BB_1511',\n",
       " 'BB_1512',\n",
       " 'BB_1513',\n",
       " 'BB_1514',\n",
       " 'BB_1515',\n",
       " 'BB_1516',\n",
       " 'BB_1517',\n",
       " 'BB_1518',\n",
       " 'BB_1519',\n",
       " 'BB_1521',\n",
       " 'BB_1524',\n",
       " 'BB_1526',\n",
       " 'BB_1527',\n",
       " 'BB_1530',\n",
       " 'BB_1531',\n",
       " 'BB_1532',\n",
       " 'BB_1533',\n",
       " 'BB_1534',\n",
       " 'BB_1535',\n",
       " 'BB_1536',\n",
       " 'BB_1537',\n",
       " 'BB_1539',\n",
       " 'BB_1540',\n",
       " 'BB_1541',\n",
       " 'BB_1542',\n",
       " 'BB_1543',\n",
       " 'BB_1544',\n",
       " 'BB_1545',\n",
       " 'BB_1546',\n",
       " 'BB_1547',\n",
       " 'BB_1548',\n",
       " 'BB_1549',\n",
       " 'BB_1550',\n",
       " 'BB_1551',\n",
       " 'BB_1552',\n",
       " 'BB_1553',\n",
       " 'BB_1554',\n",
       " 'BB_1555',\n",
       " 'BB_1556',\n",
       " 'BB_1557',\n",
       " 'BB_1558',\n",
       " 'BB_1561',\n",
       " 'BB_1562',\n",
       " 'BB_1563',\n",
       " 'BB_1564',\n",
       " 'BB_1572',\n",
       " 'BB_1573',\n",
       " 'BB_1574',\n",
       " 'BB_1576',\n",
       " 'BB_1577',\n",
       " 'BB_1581',\n",
       " 'BB_1601']"
      ]
     },
     "execution_count": 111,
     "metadata": {},
     "output_type": "execute_result"
    }
   ],
   "source": [
    "find_col_names(engine, 'samples')"
   ]
  },
  {
   "cell_type": "code",
   "execution_count": null,
   "metadata": {},
   "outputs": [],
   "source": []
  }
 ],
 "metadata": {
  "kernelspec": {
   "display_name": "Python 3",
   "language": "python",
   "name": "python3"
  },
  "language_info": {
   "codemirror_mode": {
    "name": "ipython",
    "version": 3
   },
   "file_extension": ".py",
   "mimetype": "text/x-python",
   "name": "python",
   "nbconvert_exporter": "python",
   "pygments_lexer": "ipython3",
   "version": "3.6.4"
  }
 },
 "nbformat": 4,
 "nbformat_minor": 2
}
